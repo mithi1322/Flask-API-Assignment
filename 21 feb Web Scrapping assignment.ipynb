{
 "cells": [
  {
   "cell_type": "markdown",
   "id": "e9b1a4a6-a706-4a54-84d4-9f00bef7a956",
   "metadata": {},
   "source": [
    "Q1. What is Web Scraping? Why is it Used? Give three areas where Web Scraping is used to get data."
   ]
  },
  {
   "cell_type": "code",
   "execution_count": null,
   "id": "a12fdb17-14ed-4bc5-b6a7-ce57da90cfa3",
   "metadata": {},
   "outputs": [],
   "source": [
    "# Answer:\n",
    "'''Web scraping is the process of extracting data from websites using software or tools. \n",
    "    It involves fetching the HTML code of a webpage and then parsing the code to extract the required data. \n",
    "    Web scraping is used to automate the process of data collection, which would otherwise be time-consuming and labor-intensive. \n",
    "    It is also used to extract large volumes of data that cannot be easily collected manually'''\n",
    "\n",
    "# Three areas where web scraping is used:\n",
    "\n",
    "'''E-commerce: Web scraping is used in e-commerce to collect data on products, prices, and \n",
    "                reviews from various websites to analyze market trends and pricing strategies.\n",
    "\n",
    "    Business: Web scraping is used in business to gather data on competitors, market trends,\n",
    "                and customer behavior to gain insights and improve business strategies.\n",
    "\n",
    "    Research: Web scraping is used in research to collect data on various topics for analysis and to develop predictive models.'''\n"
   ]
  },
  {
   "cell_type": "markdown",
   "id": "51e3aad3-cca8-41d6-ac95-76165b39f686",
   "metadata": {},
   "source": [
    "Q2. What are the different methods used for Web Scraping?"
   ]
  },
  {
   "cell_type": "code",
   "execution_count": null,
   "id": "76150166-5bb4-4508-9141-741a6e859337",
   "metadata": {},
   "outputs": [],
   "source": [
    "# Answer:\n",
    "'''Manual scraping: This involves manually copying and pasting data from web pages into a spreadsheet or database.\n",
    "\n",
    "    Web scraping software: This involves using software tools such as Octoparse, ParseHub, and Beautiful Soup to scrape web pages and extract data.\n",
    "\n",
    "    Application programming interfaces (APIs): Some websites provide APIs that allow developers to access and extract data from the website.\n",
    "\n",
    "    Browser extensions: Some browser extensions like Web Scraper and Data Miner can be used to scrape data from websites.'''"
   ]
  },
  {
   "cell_type": "markdown",
   "id": "93788cb8-fe11-43da-95cc-1d78e88a1b13",
   "metadata": {},
   "source": [
    "Q3. What is Beautiful Soup? Why is it used?"
   ]
  },
  {
   "cell_type": "code",
   "execution_count": null,
   "id": "61a215a3-b4ee-4ee6-9895-c1b3efa4c08a",
   "metadata": {},
   "outputs": [],
   "source": [
    "# Answer:\n",
    "'''Beautiful Soup is a Python library used for web scraping purposes. \n",
    "    It is used to parse HTML and XML documents, allowing developers to extract data from web pages. \n",
    "    Beautiful Soup provides a simple interface to navigate and search through the HTML code of a webpage, making it easy to extract specific data.'''"
   ]
  },
  {
   "cell_type": "markdown",
   "id": "d721eb0f-502c-4050-be7a-af5b698aa2bd",
   "metadata": {},
   "source": [
    "Q4. Why is flask used in this Web Scraping project?"
   ]
  },
  {
   "cell_type": "code",
   "execution_count": null,
   "id": "680f59c8-2a0b-4274-aa73-97419b1264a9",
   "metadata": {},
   "outputs": [],
   "source": [
    "# Answer:\n",
    "'''Flask is a micro web framework in Python that is ideal for building small to medium-sized web applications. \n",
    "    Flask is used in this web scraping project because it allows for the development of lightweight and efficient \n",
    "    web applications that can handle HTTP requests and responses'''"
   ]
  },
  {
   "cell_type": "markdown",
   "id": "84fcd19e-0f65-4f38-85d2-872fa2850c1c",
   "metadata": {},
   "source": [
    "Q5. Write the names of AWS services used in this project. Also, explain the use of each service."
   ]
  },
  {
   "cell_type": "code",
   "execution_count": null,
   "id": "05c7ec82-2221-4ada-acd4-550f02c57c4c",
   "metadata": {},
   "outputs": [],
   "source": [
    "# Answer:\n",
    "# In a web scraping project, the following AWS services can be used:\n",
    "'''Amazon EC2: Amazon Elastic Compute Cloud (EC2) provides scalable compute capacity in the cloud. \n",
    "        It is used to host web scraping scripts and run them on virtual machines.\n",
    "\n",
    "Amazon CloudWatch: Amazon CloudWatch is a monitoring and observability service that provides real-time visibility into resource utilization, \n",
    "        application performance, and operational health. It can be used to monitor the health of the web scraping application and to alert on any issues that may arise.\n",
    "\n",
    "Amazon API Gateway: Amazon API Gateway is a fully managed service that makes it easy for developers to create, publish, m\n",
    "        aintain, monitor, and secure APIs at any scale. It can be used to expose the scraped data as APIs, making it accessible to clients.'''\n"
   ]
  }
 ],
 "metadata": {
  "kernelspec": {
   "display_name": "Python 3 (ipykernel)",
   "language": "python",
   "name": "python3"
  },
  "language_info": {
   "codemirror_mode": {
    "name": "ipython",
    "version": 3
   },
   "file_extension": ".py",
   "mimetype": "text/x-python",
   "name": "python",
   "nbconvert_exporter": "python",
   "pygments_lexer": "ipython3",
   "version": "3.10.8"
  }
 },
 "nbformat": 4,
 "nbformat_minor": 5
}
