{
 "cells": [
  {
   "cell_type": "markdown",
   "id": "fc555be3-6cbc-4355-a270-c3736a33a4db",
   "metadata": {},
   "source": [
    "Q1. What is Flask Framework? What are the advantages of Flask Framework?"
   ]
  },
  {
   "cell_type": "code",
   "execution_count": null,
   "id": "ddbf4b58-e8d5-43b5-ba9d-29c53d1a907b",
   "metadata": {},
   "outputs": [],
   "source": [
    "# Answer:\n",
    "'''Flask is a micro web framework for building web applications using Python.\n",
    "    It is classified as a microframework because it does not require particular tools or libraries.'''\n",
    "\n",
    "# Advantages of Flask Framework:\n",
    "\n",
    "'''Easy to learn and use\n",
    "    Minimalistic design and simple syntax\n",
    "    Lightweight and flexible\n",
    "    Built-in development server and debugger\n",
    "    Integrated support for unit testing\n",
    "    Extensive documentation and a large community of developers'''"
   ]
  },
  {
   "cell_type": "markdown",
   "id": "9af9c91e-dc3a-4845-b6b0-ecc804302f16",
   "metadata": {},
   "source": [
    "Q2. Create a simple Flask application to display ‘Hello World!!’. Attach the screenshot of the output in\n",
    "Jupyter Notebook."
   ]
  },
  {
   "cell_type": "code",
   "execution_count": 1,
   "id": "28079403-6d3f-4d83-a974-6084f11b0c3f",
   "metadata": {},
   "outputs": [
    {
     "name": "stdout",
     "output_type": "stream",
     "text": [
      "Requirement already satisfied: Flask in /opt/conda/lib/python3.10/site-packages (2.2.3)\n",
      "Requirement already satisfied: itsdangerous>=2.0 in /opt/conda/lib/python3.10/site-packages (from Flask) (2.1.2)\n",
      "Requirement already satisfied: Jinja2>=3.0 in /opt/conda/lib/python3.10/site-packages (from Flask) (3.1.2)\n",
      "Requirement already satisfied: Werkzeug>=2.2.2 in /opt/conda/lib/python3.10/site-packages (from Flask) (2.2.3)\n",
      "Requirement already satisfied: click>=8.0 in /opt/conda/lib/python3.10/site-packages (from Flask) (8.1.3)\n",
      "Requirement already satisfied: MarkupSafe>=2.0 in /opt/conda/lib/python3.10/site-packages (from Jinja2>=3.0->Flask) (2.1.1)\n",
      " * Serving Flask app '__main__'\n",
      " * Debug mode: off\n"
     ]
    },
    {
     "name": "stderr",
     "output_type": "stream",
     "text": [
      "WARNING: This is a development server. Do not use it in a production deployment. Use a production WSGI server instead.\n",
      " * Running on all addresses (0.0.0.0)\n",
      " * Running on http://127.0.0.1:5000\n",
      " * Running on http://172.18.0.8:5000\n",
      "Press CTRL+C to quit\n",
      "172.18.0.2 - - [28/Mar/2023 08:47:23] \"GET / HTTP/1.1\" 200 -\n"
     ]
    }
   ],
   "source": [
    "!pip install Flask\n",
    "from flask import Flask\n",
    "\n",
    "app = Flask(__name__)\n",
    "\n",
    "@app.route(\"/\")\n",
    "def hello_world():\n",
    "    return \"<h1>Hello World!!</h1>\"\n",
    "\n",
    "if __name__==\"__main__\":\n",
    "    app.run(host=\"0.0.0.0\")\n"
   ]
  },
  {
   "cell_type": "markdown",
   "id": "1054ff79-8dd8-47b9-abbb-44ede1eefc05",
   "metadata": {},
   "source": [
    "Q3. What is App routing in Flask? Why do we use app routes?"
   ]
  },
  {
   "cell_type": "code",
   "execution_count": null,
   "id": "43304bd7-995b-4f8f-86a7-96d1817e0c46",
   "metadata": {},
   "outputs": [],
   "source": [
    "# Answer:\n",
    "'''App routing in Flask is the process of binding a URL to a Python function. \n",
    "    Flask uses the @app.route() decorator to specify the URL pattern and the corresponding function that should be executed when the URL is accessed.\n",
    "\n",
    "    We use app routes in Flask to define the behavior of our web application. \n",
    "    App routes allow us to handle user requests and generate responses based on those requests.'''"
   ]
  },
  {
   "cell_type": "markdown",
   "id": "ca9c2dcc-9b04-4dfd-9726-80e39636c6d9",
   "metadata": {},
   "source": [
    "Q4.  Create a “/welcome” route to display the welcome message “Welcome to ABC Corporation” and a “/”\n",
    "route to show the following details:\n",
    "\n",
    "    Company Name: ABC Corporation\n",
    "\n",
    "    Location: India\n",
    "\n",
    "    Contact Detail: 999-999-9999 \n",
    "\n",
    "\n",
    "Attach the screenshot of the output in Jupyter Notebook."
   ]
  },
  {
   "cell_type": "code",
   "execution_count": 2,
   "id": "affbece8-f6fa-4c82-9658-d305439ccb9f",
   "metadata": {},
   "outputs": [
    {
     "name": "stdout",
     "output_type": "stream",
     "text": [
      "Requirement already satisfied: Flask in /opt/conda/lib/python3.10/site-packages (2.2.3)\n",
      "Requirement already satisfied: itsdangerous>=2.0 in /opt/conda/lib/python3.10/site-packages (from Flask) (2.1.2)\n",
      "Requirement already satisfied: click>=8.0 in /opt/conda/lib/python3.10/site-packages (from Flask) (8.1.3)\n",
      "Requirement already satisfied: Werkzeug>=2.2.2 in /opt/conda/lib/python3.10/site-packages (from Flask) (2.2.3)\n",
      "Requirement already satisfied: Jinja2>=3.0 in /opt/conda/lib/python3.10/site-packages (from Flask) (3.1.2)\n",
      "Requirement already satisfied: MarkupSafe>=2.0 in /opt/conda/lib/python3.10/site-packages (from Jinja2>=3.0->Flask) (2.1.1)\n",
      " * Serving Flask app '__main__'\n",
      " * Debug mode: off\n"
     ]
    },
    {
     "name": "stderr",
     "output_type": "stream",
     "text": [
      "WARNING: This is a development server. Do not use it in a production deployment. Use a production WSGI server instead.\n",
      " * Running on all addresses (0.0.0.0)\n",
      " * Running on http://127.0.0.1:5000\n",
      " * Running on http://172.18.0.8:5000\n",
      "Press CTRL+C to quit\n",
      "172.18.0.2 - - [28/Mar/2023 08:48:36] \"GET / HTTP/1.1\" 200 -\n",
      "172.18.0.2 - - [28/Mar/2023 08:48:41] \"GET / HTTP/1.1\" 200 -\n",
      "172.18.0.2 - - [28/Mar/2023 08:48:54] \"GET /welcome HTTP/1.1\" 200 -\n"
     ]
    }
   ],
   "source": [
    "!pip install Flask\n",
    "from flask import Flask\n",
    "\n",
    "app = Flask(__name__)\n",
    "\n",
    "@app.route('/welcome')\n",
    "def welcome():\n",
    "    return \"<h1>Welcome to ABC Corporation</h1>\"\n",
    "\n",
    "@app.route('/')\n",
    "def index():\n",
    "    return '''<h1>Company Name: ABC Corporation \n",
    "                Location: India \n",
    "                Contact Detail: 999-999-9999</h1>'''\n",
    "\n",
    "if __name__ == '__main__':\n",
    "    app.run(host=\"0.0.0.0\")\n"
   ]
  },
  {
   "cell_type": "markdown",
   "id": "93f77c9b-a8f9-4046-bbbd-75c3d4fd10a4",
   "metadata": {},
   "source": [
    "Q5. What function is used in Flask for URL Building? Write a Python code to demonstrate the working of the\n",
    "url_for() function."
   ]
  },
  {
   "cell_type": "code",
   "execution_count": 3,
   "id": "6b14107b-7158-4d23-8d9d-e96810c97f87",
   "metadata": {},
   "outputs": [
    {
     "name": "stdout",
     "output_type": "stream",
     "text": [
      "/\n",
      "/user/Mithilesh%20jaiswal\n"
     ]
    }
   ],
   "source": [
    "# The url_for() function is used in Flask for URL Building. It is used to generate URLs for Flask functions based on the name of the function.\n",
    "\n",
    "from flask import Flask, url_for\n",
    "app = Flask(__name__)\n",
    "\n",
    "@app.route('/')\n",
    "def index():\n",
    "    return 'Home Page'\n",
    "\n",
    "@app.route('/user/<name>')\n",
    "def user(name):\n",
    "    return f'Hello, {name}'\n",
    "\n",
    "if __name__ == '__main__':\n",
    "    with app.test_request_context():\n",
    "        print(url_for('index'))\n",
    "        print(url_for('user', name='Mithilesh jaiswal'))\n"
   ]
  },
  {
   "cell_type": "code",
   "execution_count": null,
   "id": "84ee4d1e-c4b5-4771-a296-a97073de2ace",
   "metadata": {},
   "outputs": [],
   "source": []
  }
 ],
 "metadata": {
  "kernelspec": {
   "display_name": "Python 3 (ipykernel)",
   "language": "python",
   "name": "python3"
  },
  "language_info": {
   "codemirror_mode": {
    "name": "ipython",
    "version": 3
   },
   "file_extension": ".py",
   "mimetype": "text/x-python",
   "name": "python",
   "nbconvert_exporter": "python",
   "pygments_lexer": "ipython3",
   "version": "3.10.8"
  }
 },
 "nbformat": 4,
 "nbformat_minor": 5
}
