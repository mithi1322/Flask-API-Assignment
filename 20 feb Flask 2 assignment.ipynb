{
 "cells": [
  {
   "cell_type": "markdown",
   "id": "0c7e076f-5bec-489c-8d67-c2c8fb5ed917",
   "metadata": {},
   "source": [
    "Q1. Explain GET and POST methods."
   ]
  },
  {
   "cell_type": "code",
   "execution_count": null,
   "id": "97af29ac-2f8f-41b5-a2b5-eb6dff319763",
   "metadata": {},
   "outputs": [],
   "source": [
    "# Answer:\n",
    "'''GET and POST are HTTP methods used for sending and receiving data between a client and a server.\n",
    "\n",
    "    GET method is used to request a resource from the server. \n",
    "    The requested resource is specified in the URL, and any additional data is sent as query parameters. \n",
    "    This method is mostly used for retrieving data from the server.\n",
    "\n",
    "    POST method is used to submit data to the server. T\n",
    "    he data is sent in the body of the request and is not visible in the URL. \n",
    "    This method is mostly used for creating or updating data on the server'''"
   ]
  },
  {
   "cell_type": "markdown",
   "id": "f052937a-454d-4a34-a117-1a6b69247232",
   "metadata": {},
   "source": [
    "Q2. Why is request used in Flask?"
   ]
  },
  {
   "cell_type": "code",
   "execution_count": null,
   "id": "5a3409ac-8159-426a-ab24-31820089280c",
   "metadata": {},
   "outputs": [],
   "source": [
    "# Answer:\n",
    "'''The request module in Flask is used to handle incoming HTTP requests. \n",
    "    It provides access to the request data, such as form data, query parameters, and HTTP headers. \n",
    "    The request object also allows you to access data from cookies, files, and JSON data.'''"
   ]
  },
  {
   "cell_type": "markdown",
   "id": "dc640d45-e543-4c01-bbb9-2bf83caa4228",
   "metadata": {},
   "source": [
    "Q3. Why is redirect() used in Flask?"
   ]
  },
  {
   "cell_type": "code",
   "execution_count": null,
   "id": "f74b16b7-171a-45f1-8968-cbcec6b4fe5c",
   "metadata": {},
   "outputs": [],
   "source": [
    "#Answer:\n",
    "'''The redirect() function in Flask is used to redirect the user to a different route or URL. \n",
    "    This function is particularly useful in situations where the user needs to be redirected to another page after a certain action has been completed.\n",
    "\n",
    "    For example, if a user successfully logs in to a website, they may be redirected to their user profile page using the redirect() function.'''"
   ]
  },
  {
   "cell_type": "markdown",
   "id": "0dac60c4-35b9-4114-b88e-fd4d7e86a669",
   "metadata": {},
   "source": [
    "Q4. What are templates in Flask? Why is the render_template() function used?"
   ]
  },
  {
   "cell_type": "code",
   "execution_count": null,
   "id": "a2303bc3-ddeb-4e9f-8136-55910c4285e8",
   "metadata": {},
   "outputs": [],
   "source": [
    "# Answer:\n",
    "'''Templates in Flask are used to generate dynamic HTML content.\n",
    "    They allow you to separate the presentation logic from the application logic. \n",
    "    In other words, you can define how the output of your Flask application should look like, without having to specify the data that will be displayed.\n",
    "\n",
    "    The render_template() function is used to render the template with the specified name and data.\n",
    "    It takes the name of the template file as its first argument, and any number of keyword arguments representing the data that should be passed to the template.'''"
   ]
  },
  {
   "cell_type": "markdown",
   "id": "866a4c5b-894e-4df3-ba1d-46898ac4206e",
   "metadata": {},
   "source": [
    "Q5. Create a simple API. Use Postman to test it. Attach the screenshot of the output in the Jupyter Notebook."
   ]
  },
  {
   "cell_type": "code",
   "execution_count": 2,
   "id": "57730e49-d6e1-46d9-970e-f89f12cf945b",
   "metadata": {},
   "outputs": [
    {
     "name": "stdout",
     "output_type": "stream",
     "text": [
      "Requirement already satisfied: Flask in /opt/conda/lib/python3.10/site-packages (2.2.3)\n",
      "Requirement already satisfied: click>=8.0 in /opt/conda/lib/python3.10/site-packages (from Flask) (8.1.3)\n",
      "Requirement already satisfied: itsdangerous>=2.0 in /opt/conda/lib/python3.10/site-packages (from Flask) (2.1.2)\n",
      "Requirement already satisfied: Jinja2>=3.0 in /opt/conda/lib/python3.10/site-packages (from Flask) (3.1.2)\n",
      "Requirement already satisfied: Werkzeug>=2.2.2 in /opt/conda/lib/python3.10/site-packages (from Flask) (2.2.3)\n",
      "Requirement already satisfied: MarkupSafe>=2.0 in /opt/conda/lib/python3.10/site-packages (from Jinja2>=3.0->Flask) (2.1.1)\n",
      " * Serving Flask app '__main__'\n",
      " * Debug mode: off\n"
     ]
    },
    {
     "name": "stderr",
     "output_type": "stream",
     "text": [
      "WARNING: This is a development server. Do not use it in a production deployment. Use a production WSGI server instead.\n",
      " * Running on all addresses (0.0.0.0)\n",
      " * Running on http://127.0.0.1:5000\n",
      " * Running on http://172.18.0.8:5000\n",
      "Press CTRL+C to quit\n",
      "172.18.0.2 - - [28/Mar/2023 08:55:54] \"GET /hello HTTP/1.1\" 200 -\n"
     ]
    }
   ],
   "source": [
    "!pip install Flask\n",
    "from flask import Flask, jsonify\n",
    "\n",
    "app = Flask(__name__)\n",
    "\n",
    "@app.route('/hello')\n",
    "def hello():\n",
    "    msg= \"The message is 'Hello,World!'\"\n",
    "    return jsonify(msg)\n",
    "\n",
    "if __name__ == '__main__':\n",
    "    app.run(host=\"0.0.0.0\")\n"
   ]
  },
  {
   "cell_type": "code",
   "execution_count": null,
   "id": "be3705ca-46c6-4f34-8a28-4932548868e7",
   "metadata": {},
   "outputs": [],
   "source": []
  }
 ],
 "metadata": {
  "kernelspec": {
   "display_name": "Python 3 (ipykernel)",
   "language": "python",
   "name": "python3"
  },
  "language_info": {
   "codemirror_mode": {
    "name": "ipython",
    "version": 3
   },
   "file_extension": ".py",
   "mimetype": "text/x-python",
   "name": "python",
   "nbconvert_exporter": "python",
   "pygments_lexer": "ipython3",
   "version": "3.10.8"
  }
 },
 "nbformat": 4,
 "nbformat_minor": 5
}
